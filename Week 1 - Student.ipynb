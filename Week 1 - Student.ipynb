{
 "cells": [
  {
   "cell_type": "markdown",
   "metadata": {},
   "source": [
    "# Intro to Python - Lesson 1\n",
    "\n",
    "This lesson will cover the following topics:\n",
    "\n",
    "- Variables\n",
    "- Data Types\n",
    "- Arithmetic in Python\n",
    "- Conditional statements"
   ]
  },
  {
   "cell_type": "markdown",
   "metadata": {},
   "source": [
    "## Welcome to an Introduction to Python. \n",
    "\n",
    "\n",
    "Python is an _interpretive_ programming language invented in the 1980s. It's actually named after Monty Python and Holy Grail.\n",
    "\n",
    "### Why learn Python?\n",
    "\n",
    "Python has gained popularity because it has an easier syntax (rules to follow while coding) than many other programming languages. Python is a very diverse in its applications which has led to its adoption in areas such as data science and web development.\n",
    "\n",
    "All of the following companies actively use Python:\n",
    "\n",
    "![Image](https://www.probytes.net/wp-content/uploads/2018/08/appl.png)"
   ]
  },
  {
   "cell_type": "markdown",
   "metadata": {},
   "source": [
    "## How do I interact with this notebook?\n",
    "\n",
    "A Jupyter Notebook is an interactive way to work with code in a web browser. Jupyter is a pseudo-acronym for three programming languages: Julia, python and (e)r. Notebooks provide a format to add instructions + code in one file, which is why we're using it!\n",
    "\n",
    "We'll quickly do some practice to introduce you how to use this notebook. For a list of keyboard shortcuts you can use this link: http://maxmelnick.com/2016/04/19/python-beginner-tips-and-tricks.html.\n",
    "\n",
    "Here's a quick run down of some of the most basic commands to use:\n",
    "\n",
    "- A cell with a **<span style=\"color:blue\">blue</span>** background is in **Command Mode**. This will allow you to toggle up/down cells using the arrow keys. You can press enter/return on a cell in command mode to enter edit mode\n",
    "\n",
    "- A cell with a **<span style=\"color:green\">green</span>** background is in **Edit Mode**. This will allow you to change the content of cells. You can press the escape key on a cell in command mode to enter edit mode\n",
    "\n",
    "- To run the contents of a cell, you can type:\n",
    "  - `cmd + enter`, which will run the cotents of a cell and keep the cursor in place\n",
    "  - `shift + enter`, which will run the contents of a cell, and move the cursor to the next cell (or create a new cell)\n",
    "\n",
    "### Exercise 1\n",
    "\n",
    "Edit the below by changing \"Gretchen\" to your own name by entering edit mode, and then running the cell using the directions above.\n"
   ]
  },
  {
   "cell_type": "code",
   "execution_count": null,
   "metadata": {
    "collapsed": true
   },
   "outputs": [],
   "source": [
    "print(\"Hello, Gretchen\")"
   ]
  },
  {
   "cell_type": "markdown",
   "metadata": {},
   "source": [
    "We can add/delete cells using the following commands in <span style=\"color:blue\">**Command Mode**</span>:\n",
    "\n",
    "- `a`, adds a cell above the current cell\n",
    "- `b`, adds a cell below the current cell\n",
    "- `d + d`, (pressing the \"d\" key twice in succession) deletes a cell\n",
    "\n",
    "### Exercise 2\n",
    "\n",
    "Add/delete the cells such that each individual cell prints the numbers 1-5 in order. The numbers 2 and 4 are already completed for you."
   ]
  },
  {
   "cell_type": "code",
   "execution_count": null,
   "metadata": {
    "collapsed": true
   },
   "outputs": [],
   "source": [
    "print(2)"
   ]
  },
  {
   "cell_type": "code",
   "execution_count": null,
   "metadata": {
    "collapsed": true
   },
   "outputs": [],
   "source": [
    "print(33)"
   ]
  },
  {
   "cell_type": "code",
   "execution_count": null,
   "metadata": {
    "collapsed": true
   },
   "outputs": [],
   "source": [
    "print(4)"
   ]
  },
  {
   "cell_type": "markdown",
   "metadata": {},
   "source": [
    "## Variables\n",
    "\n",
    "Variables are the building blocks of any coding language, as they allow us to _store information_. Here is the creation of a variable...\n",
    "\n",
    "```python\n",
    "age = 42\n",
    "```\n",
    "\n",
    "Can you guess what we're doing here? A few questions might be...\n",
    "\n",
    "- What does the `=` sign do?\n",
    "- What is the thing called `age`?\n",
    "- Why do we connect `age` to the number `42`?\n",
    "\n",
    "Hopefully it logically follows that in this example we created a `variable` called `age`, and stored the value `42` within this variable (which is supposed to represent the age of an arbitrary person).\n",
    "\n",
    "The syntax to make a variable in Python is as follows:\n",
    "\n",
    "```python\n",
    "variable_name = value\n",
    "```\n",
    "\n",
    "Give it a go yourself and run the cells below."
   ]
  },
  {
   "cell_type": "code",
   "execution_count": null,
   "metadata": {
    "collapsed": true,
    "scrolled": true
   },
   "outputs": [],
   "source": [
    "age = 20\n",
    "print(age)"
   ]
  },
  {
   "cell_type": "code",
   "execution_count": null,
   "metadata": {
    "collapsed": true
   },
   "outputs": [],
   "source": [
    "height = 187\n",
    "print(height)"
   ]
  },
  {
   "cell_type": "code",
   "execution_count": null,
   "metadata": {
    "collapsed": true
   },
   "outputs": [],
   "source": [
    "first_name = 'James'\n",
    "print(first_name)"
   ]
  },
  {
   "cell_type": "code",
   "execution_count": null,
   "metadata": {
    "collapsed": true
   },
   "outputs": [],
   "source": [
    "eye_colour = 'blue'\n",
    "print(eye_colour)"
   ]
  },
  {
   "cell_type": "markdown",
   "metadata": {},
   "source": [
    "## Data Types\n",
    "\n",
    "You might have noticed some differences in the _type of data_ we stored above. For example, we stored\n",
    "\n",
    "* The numbers, 20 and 187\n",
    "* The words, `'James'` and `'blue'`. What did we _surround the word by_ in order to store it?\n",
    "\n",
    "Words and numbers in Python represent _different types of data_, and we call the _type_ of data a _data type_. The reason Python has _data types_ is that word takes up a _different amount of memory_ in a computer than number.\n",
    "\n",
    "You also might notice that the variable names gave hints about the type of data we stored within the variable. For example, you probably assumed that `age` would store a number and `first_name` would store a word. \n",
    "\n",
    "In programming, there are actually two types of numbers:\n",
    "\n",
    "1. **Integers**, like the number `50`\n",
    "2. **Floats**, like the _decimal_ `0.5` (thought exercise...is `50.0` an integer or a float?)\n",
    "\n",
    "We also have words, or **strings**. You likely noticed that 'strings' require quotations around their value. \n",
    "\n",
    "Python variables do not have to only hold specific data types. You can switch the data type that a variable holds."
   ]
  },
  {
   "cell_type": "code",
   "execution_count": null,
   "metadata": {
    "collapsed": true
   },
   "outputs": [],
   "source": [
    "first_name = 'James'\n",
    "print(first_name)"
   ]
  },
  {
   "cell_type": "code",
   "execution_count": null,
   "metadata": {
    "collapsed": true
   },
   "outputs": [],
   "source": [
    "first_name = 10\n",
    "print(first_name)"
   ]
  },
  {
   "cell_type": "markdown",
   "metadata": {},
   "source": [
    "In Python, variables can be given the value of another variable, an example can be found below."
   ]
  },
  {
   "cell_type": "code",
   "execution_count": null,
   "metadata": {
    "collapsed": true
   },
   "outputs": [],
   "source": [
    "variable_a = 2\n",
    "variable_b = variable_a\n",
    "print(variable_b)"
   ]
  },
  {
   "cell_type": "markdown",
   "metadata": {},
   "source": [
    "If we change the value of `variable_a`, what do you think happens to the value of `variable_b`?\n",
    "\n",
    "\n",
    "### Exercise 3\n",
    "\n",
    "In the cell below, without changing the first two lines, add some additional code that changes the value of `variable_a` and display the value of `variable_b` to the screen."
   ]
  },
  {
   "cell_type": "code",
   "execution_count": null,
   "metadata": {
    "collapsed": true
   },
   "outputs": [],
   "source": [
    "variable_a = 2\n",
    "variable_b = variable_a\n",
    "\n",
    "# Add code below this comment to change the value of variable_a and\n",
    "# display the value of variable_b (using a print statement)"
   ]
  },
  {
   "cell_type": "markdown",
   "metadata": {},
   "source": [
    "## Control flow (conditional statements)\n",
    "\n",
    "\n",
    "Think about decisions you make on a daily basis. For example\n",
    "\n",
    "* if I am hungry, then I will get a snack\n",
    "* if I am thirsty, then I will get a drink of water\n",
    "* Otherwise, I will stay here and continue learning more about this thing called control flow\n",
    "\n",
    "Programs do the same thing. They look at the _current state_ of the program while running (in real life - this would be the recognition that I'm hungry), and then make a decision on which code to run (the consequence).\n",
    "\n",
    "In any language, we cannot accomplish everything with variables, at some point we are going to need logic to determine what our program will do next. We are going to start with the simplest implementation of logic into our program, the `if` statement. The syntax of the if statement is as follows:\n",
    "\n",
    "```python\n",
    "if (condition):\n",
    "    consequence\n",
    "```\n",
    "\n",
    "The `consequence` line of code above is only run when the condition is met. The condition can be any form of logic, which we will discuss in a second. We'll give a few examples below.\n",
    "\n",
    "You will notice that the `consequence` code above is indented. The indentation signifies the body of code that should be run if the condition evaluates to true. An example below:\n",
    "\n",
    "```python\n",
    "x = 3\n",
    "if x > 2:\n",
    "    variable_a = 2\n",
    "    print(variable_a)\n",
    "variable_b = 3\n",
    "```\n",
    "\n",
    "The `condition` plays an important role in the syntax of the `if` statement, there are two possible results of the `if` statement:\n",
    "\n",
    "- The `condition` equates to `True` in which case, the ```consequence``` will be run.\n",
    "- The `condition` equates to `False` in which case, the `consequence` will not be run and python will jump to the end of the indentation and continue to run our program.\n",
    "\n",
    "\n",
    "Run the following cells to test this. We can replace `condition` with `True` to always run the `consequence` or `False` to never run the `consequence`"
   ]
  },
  {
   "cell_type": "code",
   "execution_count": null,
   "metadata": {
    "collapsed": true
   },
   "outputs": [],
   "source": [
    "if True:\n",
    "    print('Hello world')"
   ]
  },
  {
   "cell_type": "code",
   "execution_count": null,
   "metadata": {
    "collapsed": true
   },
   "outputs": [],
   "source": [
    "if False:\n",
    "    print('Hello world')"
   ]
  },
  {
   "cell_type": "markdown",
   "metadata": {},
   "source": [
    "As mentioned previously, anything that is not indented is not affected by the `if` statement. Let us test this will the same example above. From now on, we will be refering to the `consequence` as the `body` of the `if` statement."
   ]
  },
  {
   "cell_type": "code",
   "execution_count": null,
   "metadata": {
    "collapsed": true
   },
   "outputs": [],
   "source": [
    "if False:\n",
    "    print('Hello world')\n",
    "print('This line is not indented and therefore is not in the body of the conditional statement')"
   ]
  },
  {
   "cell_type": "markdown",
   "metadata": {},
   "source": [
    "Let us now dive deeper into the ```condition``` of the ```if``` statement.\n",
    "\n",
    "When we use a single `=` sign, it means we are assigning a value. For example:\n",
    "`variable_a = 2` means that we want `variable_a` to represent the value of `2`.\n",
    "\n",
    "When we use a double `=` sign, or `==`, it means we are checking that the values are the same. This is called a comparison operator (comparing two values). If two values are equal, the condition will equal `True` and if the two values are not equal, the condition will equal `False`.\n",
    "\n",
    "### Exercise 4\n",
    "\n",
    "An example of a comparison operator can be found in the cell below, complete the tasks written as comments denoted by the `#`."
   ]
  },
  {
   "cell_type": "code",
   "execution_count": null,
   "metadata": {
    "collapsed": true
   },
   "outputs": [],
   "source": [
    "variable_a = 2\n",
    "# For the example, we have created a condition that will always equate to true.\n",
    "if variable_a == 2:\n",
    "    print('variable_a is equal to 2')\n",
    "\n",
    "if variable_a == 3:\n",
    "    # Anything placed inside this 'if' statement will not be run because the value of 'variable_a' is never set to 3.\n",
    "    print('variable_a is equal to 3')\n",
    "\n",
    "# Run this code once, did it behave as expected? Now imagine you want to run the second 'if' statement. \n",
    "# Append some code to the body of the first 'if' statement after\n",
    "# \"print('variable_a is equal to 2')\" to ensure the condition (if variable_a == 3) evaluates to True\n",
    "\n",
    "# Add another 'if' statement for the number 4."
   ]
  },
  {
   "cell_type": "markdown",
   "metadata": {},
   "source": [
    "Here are a list of some of the most common operators and their purpose:\n",
    "\n",
    "|Operator|Description|Example|\n",
    "|---|---|---|\n",
    "|==|If the values of two operands are equal, then the condition becomes true.|(a == b)|\n",
    "|!=|If values of two operands are not equal, then condition becomes true.|(a != b)|\n",
    "|>|If the value of left operand is greater than the value of right operand, then condition becomes true.|(a > b)|\n",
    "|>=|If the value of left operand is greater than or equal to the value of right operand, then condition becomes true.|(a >= b)|\n",
    "|<|If the value of left operand is less than the value of right operand, then condition becomes true.|(a < b)|\n",
    "|<=|If the value of left operand is less than or equal to the value of right operand, then condition becomes true.|(a <= b)|\n",
    "\n",
    "\n",
    "Further examples can be found at [this link](https://www.tutorialspoint.com/python/python_basic_operators.htm)."
   ]
  },
  {
   "cell_type": "markdown",
   "metadata": {},
   "source": [
    "## Nested conditional statements"
   ]
  },
  {
   "cell_type": "markdown",
   "metadata": {},
   "source": [
    "You can 'nest' multiple `if` statements inside each other. Look at this example and notice the indentation:"
   ]
  },
  {
   "cell_type": "code",
   "execution_count": null,
   "metadata": {
    "collapsed": true
   },
   "outputs": [],
   "source": [
    "age = 22\n",
    "if age > 17:\n",
    "    print('You are required to pay taxes.')\n",
    "    if age < 50:\n",
    "        print('You cannot retire yet.')"
   ]
  },
  {
   "cell_type": "markdown",
   "metadata": {},
   "source": [
    "### More conditions...\n",
    "\n",
    "`elif` stands for `else if`, is used to add another condition to be checked, _only if_ the initial statements before the `elif` evaluate to `False`. You can add as many `elif` statements as you like after the `if` statement.\n",
    "\n",
    "Play with the values of `age` in the example below to see what the values of:\n",
    "\n",
    "- `age` and\n",
    "- `age_of_friend`\n",
    "\n",
    "need to be to access each `print()` statement."
   ]
  },
  {
   "cell_type": "code",
   "execution_count": null,
   "metadata": {
    "collapsed": true
   },
   "outputs": [],
   "source": [
    "age = 20\n",
    "age_of_friend = 21\n",
    "if age == age_of_friend:\n",
    "    print('We are the same age!')\n",
    "elif age < age_of_friend:\n",
    "    print('I am younger than you!')\n",
    "elif age > age_of_friend:\n",
    "    print('I am older than you!')"
   ]
  },
  {
   "cell_type": "markdown",
   "metadata": {},
   "source": [
    "To complement the `if` and `elif` statement we can also utilise the `else` logic statement. The `else` statement is run when everything else fails. In other words when both the `if` and all `elif` statements are `False`, the `else` statement will be executed.\n",
    "\n",
    "Play with the values of \n",
    "\n",
    "- `my_age` and\n",
    "- `age_of_friend`\n",
    "\n",
    "In the code below to test the different cases of when the different `print()` statements occur."
   ]
  },
  {
   "cell_type": "code",
   "execution_count": null,
   "metadata": {
    "collapsed": true
   },
   "outputs": [],
   "source": [
    "my_age = 22\n",
    "age_of_friend = 22\n",
    "if age == age_of_friend:\n",
    "    print('I am the same age as my friend!')\n",
    "else:\n",
    "    print('I am not the same age as my friend')"
   ]
  },
  {
   "cell_type": "markdown",
   "metadata": {},
   "source": [
    "The below code shows an example of\n",
    "\n",
    "- `if`\n",
    "- `elif`\n",
    "- `else`\n",
    "\n",
    "together. Play with the variable values to see when each `print()` statement occurs."
   ]
  },
  {
   "cell_type": "code",
   "execution_count": null,
   "metadata": {
    "collapsed": true
   },
   "outputs": [],
   "source": [
    "my_age = 22\n",
    "age_of_friend = 22\n",
    "if(age == age_of_friend):\n",
    "    print('I am the same age as my friend!')\n",
    "elif(age > age_of_friend):\n",
    "    print('I am older than my friend')\n",
    "else:\n",
    "    print('Seeing as the `if` and `elif` statements are false, I must be younger than my friend')"
   ]
  },
  {
   "cell_type": "markdown",
   "metadata": {},
   "source": [
    "### Keywords: and, or\n",
    "\n",
    "Often times, there are multiple conditions we want to check at once. For instance, I might want to know...\n",
    "\n",
    "* Whether my child is eligible for riding a theme park ride, in which my child's height must be greater than some number, _and_ smaller than another number\n",
    "* If I am eligible for a discount at the movies, which might mean I must be a student _or_ I am a certain age\n",
    "\n",
    "Here is an implementation to check if a height falls between two numbers. Note it uses the `and` operator."
   ]
  },
  {
   "cell_type": "code",
   "execution_count": null,
   "metadata": {
    "collapsed": true
   },
   "outputs": [],
   "source": [
    "# My child is 127 cm\n",
    "my_child_height = 127\n",
    "\n",
    "# You must be between 110 and 130 cm to get on the theme park ride\n",
    "# Note we are using the \"and\" keyword\n",
    "if (my_child_height >= 110) and (my_child_height <= 130):\n",
    "    print('My child can enjoy the ride!')\n",
    "else:\n",
    "    print('My child is not in the height range')"
   ]
  },
  {
   "cell_type": "markdown",
   "metadata": {},
   "source": [
    "Let's say we want to check if someone can get a movie discount. Pretend we have two variables...\n",
    "\n",
    "* `student`, which is `True` if someone is a student and `False` otherwise\n",
    "* `age`, which is a number\n",
    "\n",
    "One receives a movie discount if they are a student, or if their age is >= 65. This can be implemented in Python using the `or` operator:"
   ]
  },
  {
   "cell_type": "code",
   "execution_count": null,
   "metadata": {
    "collapsed": true
   },
   "outputs": [],
   "source": [
    "# Initialise student and age\n",
    "student = False\n",
    "age = 70\n",
    "\n",
    "if student or (age >= 65):\n",
    "    print('You are eligible for a discount!')\n",
    "else:\n",
    "    print('You are not eligible for a discount!')"
   ]
  },
  {
   "cell_type": "markdown",
   "metadata": {},
   "source": [
    "Lastly, there are times we want to execute code if a condition is _not_ true. For instance, maybe I have a variable that dictates whether someone is a `minor`. \n",
    "\n",
    "* If someone is a `minor`, the value of the variable is `True`. \n",
    "* If they are not a minor, the variable has a value of `False`.\n",
    "\n",
    "We might want to check if someone is `not` a minor, to see if they can enter a bar. We can use the `not` keyword to do this:"
   ]
  },
  {
   "cell_type": "code",
   "execution_count": null,
   "metadata": {
    "collapsed": true
   },
   "outputs": [],
   "source": [
    "# Minor variable\n",
    "minor = False\n",
    "\n",
    "if not minor:\n",
    "    print('You can enter the bar!')\n",
    "else:\n",
    "    print('You cannot enter the bar.')"
   ]
  },
  {
   "cell_type": "markdown",
   "metadata": {},
   "source": [
    "## Arithmetic\n",
    "\n",
    "Python can implement arithmetic. There are different mathematical operators, described below.\n",
    "\n",
    "|Operator|Description|Example|\n",
    "|---|---|---|\n",
    "|+ Addition|Adds values on either side of the operator.|a + b = 30|\n",
    "|- Subtraction|Subtracts right hand operand from left hand operand.|a – b = -10|\n",
    "|* Multiplication|Multiplies values on either side of the operator|a * b = 200|\n",
    "|/ Division|Divides left hand operand by right hand operand|b / a = 2|\n",
    "|% Modulus|Divides left hand operand by right hand operand and returns remainder|b % a = 0|\n",
    "|** Exponent|Performs exponential (power) calculation on operators|a**b =10 to the power 20|\n",
    "|// Floor Division|Floor Division - The division of operands where the result is the quotient in which the digits after the decimal point are removed. But if one of the operands is negative, the result is floored, i.e., rounded away from zero (towards negative infinity)|9//2 = 4 and 9.0//2.0 = 4.0, -11//3 = -4, -11.0//3 = -4.0|"
   ]
  },
  {
   "cell_type": "markdown",
   "metadata": {},
   "source": [
    "Let's run through the below cells to see this in action..."
   ]
  },
  {
   "cell_type": "code",
   "execution_count": null,
   "metadata": {
    "collapsed": true
   },
   "outputs": [],
   "source": [
    "addition_example = 10 + 2\n",
    "print(addition_example)"
   ]
  },
  {
   "cell_type": "code",
   "execution_count": null,
   "metadata": {
    "collapsed": true
   },
   "outputs": [],
   "source": [
    "subtraction_example = 10 - 2\n",
    "print(subtraction_example)"
   ]
  },
  {
   "cell_type": "code",
   "execution_count": null,
   "metadata": {
    "collapsed": true
   },
   "outputs": [],
   "source": [
    "multiplication_example = 10 * 2\n",
    "print(multiplication_example)"
   ]
  },
  {
   "cell_type": "code",
   "execution_count": null,
   "metadata": {
    "collapsed": true
   },
   "outputs": [],
   "source": [
    "division_example = 10 / 2\n",
    "print(division_example)"
   ]
  },
  {
   "cell_type": "code",
   "execution_count": null,
   "metadata": {
    "collapsed": true
   },
   "outputs": [],
   "source": [
    "another_division_example = 1 / 2\n",
    "print(another_division_example)"
   ]
  },
  {
   "cell_type": "code",
   "execution_count": null,
   "metadata": {
    "collapsed": true
   },
   "outputs": [],
   "source": [
    "modulus_example = 10 % 2\n",
    "print(modulus_example)"
   ]
  },
  {
   "cell_type": "code",
   "execution_count": null,
   "metadata": {
    "collapsed": true
   },
   "outputs": [],
   "source": [
    "another_modulus_example = 10 % 3\n",
    "print(another_modulus_example)"
   ]
  },
  {
   "cell_type": "code",
   "execution_count": null,
   "metadata": {
    "collapsed": true
   },
   "outputs": [],
   "source": [
    "exponent_example = 10**2\n",
    "print(exponent_example)"
   ]
  },
  {
   "cell_type": "code",
   "execution_count": null,
   "metadata": {
    "collapsed": true
   },
   "outputs": [],
   "source": [
    "floor_division_example = 10 // 3\n",
    "print(floor_division_example)"
   ]
  },
  {
   "cell_type": "markdown",
   "metadata": {},
   "source": [
    "We can also use the value of existing variables in our operations"
   ]
  },
  {
   "cell_type": "code",
   "execution_count": null,
   "metadata": {
    "collapsed": true
   },
   "outputs": [],
   "source": [
    "age = 27\n",
    "age_next_year = age + 1\n",
    "print(age_next_year)"
   ]
  },
  {
   "cell_type": "markdown",
   "metadata": {},
   "source": [
    "Furthermore have a look at the following example:"
   ]
  },
  {
   "cell_type": "code",
   "execution_count": null,
   "metadata": {
    "collapsed": true
   },
   "outputs": [],
   "source": [
    "age = 27\n",
    "age = age + 1\n",
    "print(age)"
   ]
  },
  {
   "cell_type": "markdown",
   "metadata": {},
   "source": [
    "## Challenge 1\n",
    "\n",
    "I just returned from a trip to visit my cousin who lives in the city, he was telling me about his nights out at the club. I am currently 17 and would like to know if I will be able to go clubbing with him the next time I visit in two years time.\n",
    "\n",
    "The club currently allows people to enter if they are 18 or over. \n",
    "\n",
    "Does the below code have the correct logic? Change it as necessary."
   ]
  },
  {
   "cell_type": "code",
   "execution_count": null,
   "metadata": {
    "collapsed": true
   },
   "outputs": [],
   "source": [
    "current_age = 17\n",
    "if (current_age + 2 > 18):\n",
    "    print('I will be able to go clubbing with my cousin the next time I visit')\n",
    "if (current_age + 2 < 18):\n",
    "    print('I will not be able to go clubbing with my cousin the next time I visit')"
   ]
  },
  {
   "cell_type": "markdown",
   "metadata": {},
   "source": [
    "## Challenge 2\n",
    "\n",
    "Using your knowledge of operators, fix the following script to ensure that no minors can be served at the bar, given...\n",
    "\n",
    "* any age, stored in a value called `age`\n",
    "* any country. Assume that all countries have a legal age of 18, except for America, where the age is 21\n",
    "\n",
    "\n",
    "For example, using the inputs of `age` and `country` below, we would expect the following results:\n",
    "\n",
    "|Age|Country|Expected Result|\n",
    "|---|---|---|\n",
    "|18|'America'|'Not served'|\n",
    "|26|'America'|'Served'|\n",
    "|22|'Vietnam'|'Served'|\n",
    "|17|'China'|'Not Served'|"
   ]
  },
  {
   "cell_type": "code",
   "execution_count": null,
   "metadata": {
    "collapsed": true
   },
   "outputs": [],
   "source": [
    "#There are no issues with the variables. You do not need to fix anything in this section.\n",
    "age = 21\n",
    "country = 'America'\n",
    "#There are a few issues with our logic below. \n",
    "# You have full control over the logic here, feel free to delete, re-order, re-structure, etc.\n",
    "if(country == 'America'):\n",
    "    print('Served')\n",
    "if (age > 18):    \n",
    "    print('Not Served')"
   ]
  },
  {
   "cell_type": "markdown",
   "metadata": {},
   "source": [
    "## Challenge 3\n",
    "\n",
    "Imagine you are creating a website that requires users to sign up. We have the following fields in the signup form:\n",
    "\n",
    "-`username`\n",
    "-`password`\n",
    "-`age`\n",
    "\n",
    "Script requirements:\n",
    "\n",
    "- All usernames must be between 5 and 20 characters (if over 20, only the first 20 are stored)\n",
    "- We as a company have strong security in place so we require passwords are longer than 8 characters long.\n",
    "- Because our website contains potentially sensitive information we require all of our users to be over the age of 13 before they can sign up.\n",
    "\n",
    "Write some python in the cells below to print either:\n",
    "- `Account Created`, if a user, with a given username, age and password adheres to the rule above, or\n",
    "- `Account Not Created` if they do not\n",
    "\n",
    "Here are example results based upon the inputs given:\n",
    "\n",
    "|Username|Password|Age|Expected Result|\n",
    "|---|---|---|---|\n",
    "|'u_dev'|'summer2018'|22|'Account Created'|\n",
    "|'Pythagorian_monkey'|'America235'|13|'Account created'|\n",
    "|'Its_Mythic'|'Mythic1'|30|'Account Not Created'|\n",
    "|'China_no_1'|'reserved'|9|'Account Not Created'|\n",
    "\n",
    "Here is some helpful code:"
   ]
  },
  {
   "cell_type": "code",
   "execution_count": null,
   "metadata": {
    "collapsed": true
   },
   "outputs": [],
   "source": [
    "variable_a = \"Test String\"\n",
    "\n",
    "#The following function will provide the length of a variable\n",
    "print(len(variable_a))\n",
    "\n",
    "#Note: you can use functions as values in 'if' statements:\n",
    "if(len(variable_a) > 5):\n",
    "    print(\"Long variable\")"
   ]
  },
  {
   "cell_type": "markdown",
   "metadata": {},
   "source": [
    "**Insert your code** in the cell below:"
   ]
  },
  {
   "cell_type": "code",
   "execution_count": null,
   "metadata": {
    "collapsed": true
   },
   "outputs": [],
   "source": [
    "username = ''\n",
    "password = ''\n",
    "age = 0\n",
    "\n",
    "#Your code"
   ]
  },
  {
   "cell_type": "markdown",
   "metadata": {},
   "source": [
    "## Challenge 4\n",
    "\n",
    "Enough of the ```age``` examples already! Using your knowledge of arithmetic operations and logic statements, write code below that inputs a given value of a variable `box_size`, and a given size of `oranges`, `watermelons` and `apples`. The code should print...\n",
    "\n",
    "- how many oranges can fit in the box (To the nearest orange)\n",
    "- how many watermelons can fit in the box (To the nearest watermelon)\n",
    "- how much spare room is left _after_ filling the box with apples"
   ]
  },
  {
   "cell_type": "code",
   "execution_count": null,
   "metadata": {
    "collapsed": true
   },
   "outputs": [],
   "source": [
    "# Here are some example parameters\n",
    "box_size = 100\n",
    "size_of_orange = 7\n",
    "size_of_watermelon = 10\n",
    "size_of_apple = 6\n",
    "\n",
    "# INSERT YOUR CODE HERE"
   ]
  },
  {
   "cell_type": "markdown",
   "metadata": {},
   "source": [
    "## Downloading the notebook\n",
    "\n",
    "If you would like to retain your work, please follow the following directions:\n",
    "\n",
    "* On the top of this screen, in the header menu, click \"File\", then \"Download as\" and then \"Notebook\".\n",
    "\n",
    "* You will need to download [Python 3.7 with Anaconda](https://www.anaconda.com/distribution/) to use this in the future."
   ]
  }
 ],
 "metadata": {
  "kernelspec": {
   "display_name": "Python [default]",
   "language": "python",
   "name": "python3"
  },
  "language_info": {
   "codemirror_mode": {
    "name": "ipython",
    "version": 3
   },
   "file_extension": ".py",
   "mimetype": "text/x-python",
   "name": "python",
   "nbconvert_exporter": "python",
   "pygments_lexer": "ipython3",
   "version": "3.5.4"
  }
 },
 "nbformat": 4,
 "nbformat_minor": 2
}
