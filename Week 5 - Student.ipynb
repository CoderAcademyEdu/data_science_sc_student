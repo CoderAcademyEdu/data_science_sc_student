{
 "cells": [
  {
   "cell_type": "markdown",
   "metadata": {},
   "source": [
    "# Data Visualisation in Python\n",
    "\n",
    "This lesson will cover the following topics: \n",
    "* Matplotlib\n",
    "* Seaborn\n",
    "\n",
    "It is good to have knowledge of Numpy and Pandas, but we will quickly review them if you did not attend those lessons."
   ]
  },
  {
   "cell_type": "markdown",
   "metadata": {},
   "source": [
    "## Matplotlib\n",
    "\n",
    "Matplotlib is the most popular Python data visualization and plotting library. It was created by John Hunter to replicate MatLab's (another programming language) plotting capabilities in Python. Matplotlib works really well with Pandas and Numpy arrays and thus is a very useful tool for Exploratory Data Analysis.\n",
    "\n",
    "The official website and documentation for Matplotlib:\n",
    "https://matplotlib.org/\n",
    "\n",
    "\n",
    "A list of different types of plots and their examples can be found in the Matplotlib Gallery. Here you can see a cornucopia figures, shapes, statistical plot that Matplotlib is capable of generating:\n",
    "https://matplotlib.org/gallery/index.html\n",
    "\n",
    "Let's get started."
   ]
  },
  {
   "cell_type": "markdown",
   "metadata": {},
   "source": [
    "We start by importing ```matplotlib.pyplot``` module under the name plt (you can use any name but \"plt\" is a standard name used for matplotlib.pyplot)"
   ]
  },
  {
   "cell_type": "code",
   "execution_count": null,
   "metadata": {
    "collapsed": true
   },
   "outputs": [],
   "source": [
    "import matplotlib.pyplot as plt\n",
    "%matplotlib inline"
   ]
  },
  {
   "cell_type": "markdown",
   "metadata": {},
   "source": [
    "The line ```%matplotlib inline``` allows us to render tables within a Jupyter Notebook. If you are using another editor, you'll need to use: ```plt.show()``` at the end of all your plotting commands to have the figure pop up in another window."
   ]
  },
  {
   "cell_type": "markdown",
   "metadata": {},
   "source": [
    "Lets start with a simple example using two Python lists. Usually in data analytics you will be using numpy arrays or pandas columns. \n",
    "\n",
    "**Reminder:** Lists are simply a collection of numbers grouped together. More [here](https://developers.google.com/edu/python/lists)."
   ]
  },
  {
   "cell_type": "code",
   "execution_count": null,
   "metadata": {
    "collapsed": true
   },
   "outputs": [],
   "source": [
    "# Create a list called x\n",
    "x = [1, 2, 3, 4, 5]\n",
    "\n",
    "# square each integer in list x and store in new list y (list comprehension)\n",
    "y = [num**2 for num in x]\n",
    "\n",
    "# Print each list\n",
    "print(x)\n",
    "print(y)"
   ]
  },
  {
   "cell_type": "markdown",
   "metadata": {},
   "source": [
    "### Basic Commands\n",
    "A simple line plot is created below using the above lists. I highly encourage you to use Shift+Tab for each matplotlib function to checkout the docstrings."
   ]
  },
  {
   "cell_type": "code",
   "execution_count": null,
   "metadata": {
    "collapsed": true
   },
   "outputs": [],
   "source": [
    "# plot a line graph with x values on x-axis and y values on y-axis \n",
    "plt.plot(x, y, color=\"blue\")\n",
    "\n",
    "# Add titles\n",
    "plt.xlabel(\"X axis\") # title for x-axis\n",
    "plt.ylabel(\"Y axis\") # title for y-axis"
   ]
  },
  {
   "cell_type": "markdown",
   "metadata": {},
   "source": [
    "#### NumPy arrays\n",
    "\n",
    "You can plot using NumPy arrays over lists as well.\n",
    "\n",
    "We spoke briefly last week about [NumPy arrays](https://docs.scipy.org/doc/numpy/reference/generated/numpy.array.html). A reminder that NumPy is a library in Python that has mathematical functions and objects that can be applied towards those functions.\n",
    "\n",
    "NumPy arrays are like lists (a collection of many elements). The main difference is that NumPy arrays can only hold one _type_ of item, and thus the way they are stored in memory and utilised is quicker."
   ]
  },
  {
   "cell_type": "code",
   "execution_count": null,
   "metadata": {
    "collapsed": true
   },
   "outputs": [],
   "source": [
    "# Import the library \"numpy\" and give it a nickname \"np\"\n",
    "import numpy as np"
   ]
  },
  {
   "cell_type": "code",
   "execution_count": null,
   "metadata": {
    "collapsed": true
   },
   "outputs": [],
   "source": [
    "# Create 10 linearly spaced elements between the range 0 to 10\n",
    "x = np.linspace(0, 10, 10)\n",
    "\n",
    "# Raise these numbers to the third power\n",
    "y = x**3\n",
    "\n",
    "# Print\n",
    "print(x)\n",
    "print(y)"
   ]
  },
  {
   "cell_type": "code",
   "execution_count": null,
   "metadata": {
    "collapsed": true
   },
   "outputs": [],
   "source": [
    "# Plot\n",
    "plt.plot(x, y, color=\"red\")\n",
    "\n",
    "# Add titles\n",
    "plt.xlabel(\"X axis\")\n",
    "plt.ylabel(\"Y axis\")"
   ]
  },
  {
   "cell_type": "markdown",
   "metadata": {},
   "source": [
    "### Multiplots on same canvas\n",
    "\n",
    "We can use `plt.subplot()` to plot multiple plots"
   ]
  },
  {
   "cell_type": "code",
   "execution_count": null,
   "metadata": {
    "collapsed": true
   },
   "outputs": [],
   "source": [
    "# Initialise a figure\n",
    "plt.figure()  \n",
    "\n",
    "# Command: plt.subplot(num_of_rows, num_of_columns, plot_number)\n",
    "# Plot with (2 rows, 1 column, plot 1)\n",
    "plt.subplot(2,1,1)  # the first subplot in the figure\n",
    "plt.plot([1, 2, 3])\n",
    "\n",
    "# Plot with (2 rows, 1 column, plot 2)\n",
    "plt.subplot(2,1,2)  # the second subplot in the figure\n",
    "plt.plot([4, 5, 6])"
   ]
  },
  {
   "cell_type": "markdown",
   "metadata": {},
   "source": [
    "---\n",
    "Here is another example of two plots on the same figure.\n",
    "\n",
    "Note how we change the line colour (using the word `color`), and the linestyle (`solid/dashed`)"
   ]
  },
  {
   "cell_type": "code",
   "execution_count": null,
   "metadata": {
    "collapsed": true
   },
   "outputs": [],
   "source": [
    "# Plot with (1 row, 2 columns, plot 1)\n",
    "plt.subplot(1,2,1) # plt.subplot(num_of_rows, num_of_columns, plot_number)\n",
    "# plot x, y with red dashed line (subplot number 1)\n",
    "plt.plot(x, y, color=\"red\", linestyle=\"dashed\")\n",
    "\n",
    "# Plot with (1 row, 2 columns, plot 2)\n",
    "plt.subplot(1,2,2)\n",
    "# plot y, x with green line and * markers (subplot number 2)\n",
    "plt.plot(y, x, color=\"green\", linestyle=\"solid\", marker=\"*\")"
   ]
  },
  {
   "cell_type": "markdown",
   "metadata": {},
   "source": [
    "### Exercise\n",
    "\n",
    "Let's do an exercise. The code below creates a set of points `y_1` and `y_2` from a `np.array`, `x`, that lists the numbers 1-10.\n",
    "\n",
    "Plot:\n",
    "\n",
    "* `x vs. y_1` and `x vs. y_2` on the same plot\n",
    "* Plot `y_1` with green points (`'.'`), without a line\n",
    "* Plot `y_2` with a red line\n",
    "* Give an axis titles called \"X axis\" and \"Y axis\""
   ]
  },
  {
   "cell_type": "code",
   "execution_count": null,
   "metadata": {
    "collapsed": true
   },
   "outputs": [],
   "source": [
    "# Create x, y_1 and y_2\n",
    "x = np.array(range(1, 11))\n",
    "y_1 = x + np.random.choice([-2, 2], size=10) * np.random.rand(10)\n",
    "y_2 = x\n",
    "\n",
    "# Insert your code here\n"
   ]
  },
  {
   "cell_type": "markdown",
   "metadata": {},
   "source": [
    "## Object Oriented Method for plotting graphs\n",
    "\n",
    "With Object Oriented methods, we create figure objects and then call methods and attributes off of that object. This approach is better when dealing with multiplots on the same canvas."
   ]
  },
  {
   "cell_type": "code",
   "execution_count": null,
   "metadata": {
    "collapsed": true
   },
   "outputs": [],
   "source": [
    "# Initialise a numpy array in variable x\n",
    "x = np.arange(10)\n",
    "\n",
    "# Square each number in x\n",
    "y = x**2\n",
    "\n",
    "# Print\n",
    "print(x)\n",
    "print(y)"
   ]
  },
  {
   "cell_type": "markdown",
   "metadata": {},
   "source": [
    "In the example below, we create an axes object, and save it as a variable called `axes` in this line...\n",
    "\n",
    "```python\n",
    "# adding axes to the figure\n",
    "axes = fig.add_axes([0.2, 0.2, 1.0, 1.0]) # left, bottom, width, height\n",
    "```\n",
    "\n",
    "We can then manipulate this object."
   ]
  },
  {
   "cell_type": "code",
   "execution_count": null,
   "metadata": {
    "collapsed": true
   },
   "outputs": [],
   "source": [
    "# Create figure instance and add axes to it\n",
    "fig = plt.figure()\n",
    "\n",
    "# adding axes to the figure\n",
    "# List is: [left, bottom, width, height], as fraction of the full figure width/height\n",
    "axes = fig.add_axes([0.2, 0.2, 1.0, 1.0])\n",
    "\n",
    "# plotting on the set of axes\n",
    "axes.plot(x, y, color='green') \n",
    "axes.set_xlabel(\"X axis\") # notice the use of set_\n",
    "axes.set_ylabel(\"Y axis\")\n",
    "axes.set_title(\"Grpah title\")\n",
    "\n",
    "# Print data type of axes\n",
    "print(type(axes))"
   ]
  },
  {
   "cell_type": "markdown",
   "metadata": {},
   "source": [
    "As you may feel, the code is slightly more complex, but now we have full control over the figure. We can now control where the axes are placed and we can add more than one axis to the figure."
   ]
  },
  {
   "cell_type": "code",
   "execution_count": null,
   "metadata": {
    "collapsed": true
   },
   "outputs": [],
   "source": [
    "# Creates blank canvas\n",
    "fig = plt.figure()\n",
    "\n",
    "axes1 = fig.add_axes([0.2, 0.2, 1.0, 1.0]) # main axes\n",
    "axes2 = fig.add_axes([0.4, 0.8, 0.4, 0.3]) # inset axes\n",
    "\n",
    "# Larger Figure Axes 1\n",
    "axes1.plot(x, y, color='g') # 'g' is the shorthand for \"green\".\n",
    "axes1.set_xlabel('X_label_axes1')\n",
    "axes1.set_ylabel('Y_label_axes1')\n",
    "axes1.set_title('Axes 1 Title')\n",
    "\n",
    "# Insert Figure Axes 2\n",
    "axes2.plot(y, x, color='blue')\n",
    "axes2.set_xlabel('X_label_axes2')\n",
    "axes2.set_ylabel('Y_label_axes2')\n",
    "axes2.set_title('Axes 2 Title');"
   ]
  },
  {
   "cell_type": "markdown",
   "metadata": {},
   "source": [
    "### matplotlib.pyplot.subplots\n",
    "This utility wrapper makes it convenient to create common layouts of subplots, including the enclosing figure object, in a single call."
   ]
  },
  {
   "cell_type": "code",
   "execution_count": null,
   "metadata": {
    "collapsed": true
   },
   "outputs": [],
   "source": [
    "# similar to plt.figure() but uses tuple unpacking to create figure and axis\n",
    "# For tuple unpacking and multiple assignments refer: \n",
    "# https://treyhunner.com/2018/03/tuple-unpacking-improves-python-code-readability/\n",
    "\n",
    "fig, axes = plt.subplots(nrows=1, ncols=2)"
   ]
  },
  {
   "cell_type": "code",
   "execution_count": null,
   "metadata": {
    "collapsed": true
   },
   "outputs": [],
   "source": [
    "# axes is an array axes on which we can plot stuff\n",
    "axes"
   ]
  },
  {
   "cell_type": "markdown",
   "metadata": {},
   "source": [
    "Now we can plot things on each of the axes"
   ]
  },
  {
   "cell_type": "code",
   "execution_count": null,
   "metadata": {
    "collapsed": true
   },
   "outputs": [],
   "source": [
    "# Get each axis\n",
    "axes_0 = axes[0]\n",
    "axes_1 = axes[1]\n",
    "\n",
    "# Plot on axis 0\n",
    "axes_0.plot(x, y, color='blue')\n",
    "axes_0.set_xlabel(\"X axis\")\n",
    "axes_0.set_ylabel(\"Y axis\")\n",
    "axes_0.set_title(\"Axes 0 plot\")\n",
    "\n",
    "# Plot on axis 1\n",
    "axes_1.plot(y, x, color='red')\n",
    "axes_1.set_xlabel(\"X axis\")\n",
    "axes_1.set_ylabel(\"Y axis\")\n",
    "axes_1.set_title(\"Axes 1 plot\")\n",
    "\n",
    "# Show fig\n",
    "fig # We need to do this since we did not initialise the fig in this cell"
   ]
  },
  {
   "cell_type": "markdown",
   "metadata": {},
   "source": [
    "### Exercise\n",
    "\n",
    "Let's do another exercise.\n",
    "\n",
    "The following code creates a numpy array called `x` with the numbers -10 to 10. It then creates three arrays `y_1, y_2, y_3` using `x`, and then three more arrays, `y_1_scatter, y_2_scatter, y_3_scatter`, by adding random noise to the y_arrays.\n",
    "\n",
    "Your job is to...\n",
    "\n",
    "* Create a subplot with one row and three columns\n",
    "* On the left-hand plot, draw a scatterplot of `x` vs. `y_1_scatter`, and then the corresponding trendline, `x` vs `y_1`.\n",
    "\n",
    "Repeat this same process on the other two plots, using `y_1`, and `y_2`."
   ]
  },
  {
   "cell_type": "code",
   "execution_count": null,
   "metadata": {
    "collapsed": true
   },
   "outputs": [],
   "source": [
    "# Create x, y_1, y_2, y_3\n",
    "x = np.array(range(-10, 11))\n",
    "y_1 = x\n",
    "y_2 = x**2\n",
    "y_3 = x**3\n",
    "\n",
    "# Create y_1_scatter, y_2_scatter, y_3_scatter\n",
    "y_1_scatter = y_1 + np.random.choice([-2, 2], size=21) * np.random.rand(21)\n",
    "y_2_scatter = y_2 + np.random.choice([-2, 2], size=21) * np.random.rand(21)\n",
    "y_3_scatter = y_3 + np.random.choice([-2, 2], size=21) * np.random.rand(21)\n",
    "\n",
    "# Insert your code here\n"
   ]
  },
  {
   "cell_type": "markdown",
   "metadata": {},
   "source": [
    "## Matplotlib figure size and aspect ratio\n",
    "In Matplotlib we can configure the size of the figure, aspect ratio and dpi (dots per inches: how many pixels the figure comprises of).\n",
    "\n",
    "While creating a figure object, we can use ```figsize``` and ```dpi``` keyword arguments."
   ]
  },
  {
   "cell_type": "code",
   "execution_count": null,
   "metadata": {
    "collapsed": true
   },
   "outputs": [],
   "source": [
    "fig = plt.figure(figsize=(5,5), dpi=100)"
   ]
  },
  {
   "cell_type": "code",
   "execution_count": null,
   "metadata": {
    "collapsed": true
   },
   "outputs": [],
   "source": [
    "# Initialise a numpy array in variable x\n",
    "x = np.arange(10)\n",
    "\n",
    "# Square each number in x\n",
    "y = x**2\n",
    "\n",
    "fig, axes = plt.subplots(nrows=1, ncols=2, figsize=(10,4), dpi=100)\n",
    "\n",
    "axes_0 = axes[0]\n",
    "axes_1 = axes[1]\n",
    "\n",
    "axes_0.plot(x, y, color='blue')\n",
    "axes_0.set_xlabel(\"X axis\")\n",
    "axes_0.set_ylabel(\"Y axis\")\n",
    "axes_0.set_title(\"Axis 0 plot\")\n",
    "\n",
    "axes_1.plot(y, x, color='red')\n",
    "axes_1.set_xlabel(\"X axis\")\n",
    "axes_1.set_ylabel(\"Y axis\")\n",
    "axes_1.set_title(\"Axis 1 plot\")\n"
   ]
  },
  {
   "cell_type": "markdown",
   "metadata": {},
   "source": [
    "### Legends"
   ]
  },
  {
   "cell_type": "markdown",
   "metadata": {},
   "source": [
    "You can add legends to a figure using the `label` parameter in `plot`:"
   ]
  },
  {
   "cell_type": "code",
   "execution_count": null,
   "metadata": {
    "collapsed": true
   },
   "outputs": [],
   "source": [
    "fig = plt.figure()\n",
    "\n",
    "axis = fig.add_axes([0,0,1,1])\n",
    "\n",
    "axis.plot(x, x**2, label=\"x**2\")\n",
    "axis.plot(x, x**3, label=\"x**3\")\n",
    "axis.legend()"
   ]
  },
  {
   "cell_type": "markdown",
   "metadata": {},
   "source": [
    "We can change the location of the legend inside the figure using the ```loc``` keyword in the ```legend()``` function."
   ]
  },
  {
   "cell_type": "code",
   "execution_count": null,
   "metadata": {
    "collapsed": true
   },
   "outputs": [],
   "source": [
    "axis.legend(loc=1) # upper right corner\n",
    "axis.legend(loc=2) # upper left corner\n",
    "axis.legend(loc=3) # lower left corner\n",
    "axis.legend(loc=4) # lower right corner\n",
    "\n",
    "axis.legend(loc=0) # let matplotlib decide the optimal location\n",
    "fig"
   ]
  },
  {
   "cell_type": "markdown",
   "metadata": {},
   "source": [
    "There are several more options for legend location. For more details see:\n",
    "http://matplotlib.org/users/legend_guide.html#legend-location"
   ]
  },
  {
   "cell_type": "markdown",
   "metadata": {},
   "source": [
    "## Plot styling: Color, linetypes and markers\n",
    "Matplotlib gives you a plethora of customization options for the plots. \n",
    "As we have seen previously, we can change the color of a plot using the ```color``` argument. There are three ways to specify the value of the color. "
   ]
  },
  {
   "cell_type": "code",
   "execution_count": null,
   "metadata": {
    "collapsed": true
   },
   "outputs": [],
   "source": [
    "x = np.array([1,2,3,4,5]) # numpy array\n",
    "\n",
    "# Print the array\n",
    "print(x)"
   ]
  },
  {
   "cell_type": "code",
   "execution_count": null,
   "metadata": {
    "collapsed": true
   },
   "outputs": [],
   "source": [
    "# Max a figure and axis object\n",
    "fig, ax = plt.subplots()\n",
    "\n",
    "# Plot the array on the axes\n",
    "ax.plot(x, x+1, color='green', alpha=0.5) # alpha controls transparency\n",
    "ax.plot(x, x+2, color='b') # color = 'blue'\n",
    "ax.plot(x, x+3, color='#FF0000') # color = hex code  "
   ]
  },
  {
   "cell_type": "markdown",
   "metadata": {},
   "source": [
    "The following arguments are used to change the plot styles:\n",
    "* ```alpha```: controls the transparency of the plot\n",
    "* ```linewidth``` or ```lw``` : changes the width of the line\n",
    "* ```linestyle``` or ```ls```: changes the style of the line. Options include: ‘-‘, ‘–’, ‘-.’, ‘:’, ‘steps’\n",
    "* ```marker``` : specifies the style of the marker used on the line. Options include '+', 'o', '*', 's', ',', '.', '1', '2', '3', '4', ...\n",
    "* ```markersize```: specifies the size of the marker\n",
    "* ```markerfacecolor```: specifies the color of the marker"
   ]
  },
  {
   "cell_type": "code",
   "execution_count": null,
   "metadata": {
    "collapsed": true
   },
   "outputs": [],
   "source": [
    "# Make a figure on axis object\n",
    "fig, ax = plt.subplots()\n",
    "\n",
    "# Plot\n",
    "ax.plot(x, x+1, color='green', alpha=0.5)\n",
    "ax.plot(x, x+2, color='b', linestyle=':') \n",
    "ax.plot(x, x+3, color='#FF0000', ls='-.', linewidth=3) \n",
    "ax.plot(x, x+4, color='black', marker='o', markersize=8, markerfacecolor='white') "
   ]
  },
  {
   "cell_type": "markdown",
   "metadata": {},
   "source": [
    "## Challenges"
   ]
  },
  {
   "cell_type": "markdown",
   "metadata": {},
   "source": [
    "### Challenge 1\n",
    "Follow along with these steps:\n",
    "\n",
    "* Create a figure object called fig using plt.figure()\n",
    "* Use add_axes to add an axis to the figure canvas at [0,0,1,1]. Call this new axis ax.\n",
    "* Plot (x,y) on that axes\n",
    "* Plot (x,z) on the same figure\n",
    "* Add a legend to differentiate which line represents 'y' and which line represents 'z'\n",
    "* Set the axis labels and titles"
   ]
  },
  {
   "cell_type": "code",
   "execution_count": null,
   "metadata": {
    "collapsed": true
   },
   "outputs": [],
   "source": [
    "# Do not change these lines\n",
    "import numpy as np\n",
    "x = np.arange(0,100)\n",
    "y = x*2\n",
    "z = x**2"
   ]
  },
  {
   "cell_type": "code",
   "execution_count": null,
   "metadata": {
    "collapsed": true
   },
   "outputs": [],
   "source": [
    "# Insert remaining code here using 'x', 'y' and 'z' created in the last cell\n"
   ]
  },
  {
   "cell_type": "markdown",
   "metadata": {},
   "source": [
    "### Challenge 2\n",
    "Create a figure object and put two axes on it, ax1 and ax2. Located at [0,0,1.2,1.2] and [0.2,0.7,.4,.4] respectively.\n",
    "Plot (x,y) on both axes. "
   ]
  },
  {
   "cell_type": "code",
   "execution_count": null,
   "metadata": {
    "collapsed": true
   },
   "outputs": [],
   "source": [
    "# Insert code here\n"
   ]
  },
  {
   "cell_type": "markdown",
   "metadata": {},
   "source": [
    "Use the rest of the time to finish past challenges if you'd like!"
   ]
  },
  {
   "cell_type": "markdown",
   "metadata": {},
   "source": [
    "## Downloading the notebook\n",
    "\n",
    "If you would like to retain your work, please follow the following directions:\n",
    "\n",
    "* On the top of this screen, in the header menu, click \"File\", then \"Download as\" and then \"Notebook\".\n",
    "\n",
    "* You will need to download [Python 3.7 with Anaconda](https://www.anaconda.com/distribution/) to use this in the future."
   ]
  }
 ],
 "metadata": {
  "kernelspec": {
   "display_name": "Python [default]",
   "language": "python",
   "name": "python3"
  },
  "language_info": {
   "codemirror_mode": {
    "name": "ipython",
    "version": 3
   },
   "file_extension": ".py",
   "mimetype": "text/x-python",
   "name": "python",
   "nbconvert_exporter": "python",
   "pygments_lexer": "ipython3",
   "version": "3.5.4"
  }
 },
 "nbformat": 4,
 "nbformat_minor": 2
}
