{
 "cells": [
  {
   "cell_type": "markdown",
   "metadata": {},
   "source": [
    "# Intro to Python - Lesson 3\n",
    "\n",
    "This lesson will cover the following topics: \n",
    "* Modularity and abstraction\n",
    "* Functions and Arguments\n",
    "* Returning data\n",
    "* Importing modules\n",
    "\n",
    "It is assumed you have basic knowledge of the following:\n",
    "\n",
    "Week 1:\n",
    "* Variables\n",
    "* Data Types\n",
    "* Arthimetic in Python\n",
    "* Conditional statements\n",
    "\n",
    "It is good to have knowledge of the following:\n",
    "    \n",
    "Week 2:\n",
    "* Loops\n",
    "* Lists\n",
    "* Dictionaries\n",
    "\n",
    "So far we have written basic programs for small-scale problems where each code is a sequence of instructions.\n",
    "Issues with this approach -\n",
    "* For more complex, large-scale problems, the code can become messy\n",
    "* It is important to keep track of minor details and functionalities defined in our code\n",
    "* How do we know which information needs to be supplied to which part of the code?\n",
    "\n",
    "Therefore, we need a way to structure our code so that we can think about our computation more efficiently."
   ]
  },
  {
   "cell_type": "markdown",
   "metadata": {},
   "source": [
    "## Abstraction and Modularity\n",
    "More code is not necessarily a good thing. Good programs are measured by amount of functionality and not by the number of lines of code.\n",
    "###### Abstraction -\n",
    "Abstraction is the act of representing essential features without including the background details or explanations.\n",
    "\n",
    "Consider your smartphone. It is a box with some electronics inside it. In order to use your smartphone, you do not need to know about the electronics inside but only the input and output interfaces. This makes your smartphone portable and easy to use. \n",
    "\n",
    "###### Modularity -\n",
    "Breaking a problem into different, self-contained pieces.\n",
    "In programming we divide code into modules which are: \n",
    "* self-contained\n",
    "* used to break up code\n",
    "* intended to be reusable\n",
    "* keep code organized\n",
    "* keep code coherent"
   ]
  },
  {
   "cell_type": "markdown",
   "metadata": {},
   "source": [
    "## Functions\n",
    "Consider the following code:\n",
    "\n",
    "```python\n",
    "num_1 = 20\n",
    "if num_1%2 == 0:\n",
    "    is_even = True\n",
    "else:\n",
    "    is_even = False\n",
    "    \n",
    "```\n",
    "This is a reasonable piece of code that calculates whether an integer is even or odd, but it lacks general utility. It works only for values denoted by the variable num_1. This means that if we want to reuse it, we need to copy the code, possibly edit the variable name, assign a different value to the variable and paste it where we want it.\n",
    "\n",
    "The most important Python feature that makes it easy to generalize and reuse code is Function.\n",
    "\n",
    "---\n",
    "\n",
    "Functions are reusable pieces/chunks of code. Functions are not run in a program until they are “called” or “invoked” in a program. A function has following characteristics: \n",
    "* function name: a name that is representative of the utility of a function\n",
    "\n",
    "* function arguments (or parameters): arguments (parameters) used inside a function\n",
    "\n",
    "* docstring (optional but recommended): The first string after the function header is called the docstring and is short for documentation string. It is used to explain in brief, what a function does.\n",
    "\n",
    "* body: actual function code\n",
    "* return statement\n",
    "\n",
    "In Python each function definition is of the form: \n",
    "\n",
    "```python\n",
    "def name_of_function(arguments):\n",
    "    body of function\n",
    "    return result\n",
    "```\n",
    "A function performs some computations and returns a result. The return statement is used to exit a function and go back to the place from where it was called.\n",
    "\n",
    "This result can then be used elsewhere in the code.\n",
    "\n",
    "Below is an example of a function for the above code of even/odd calculation"
   ]
  },
  {
   "cell_type": "code",
   "execution_count": null,
   "metadata": {
    "collapsed": true
   },
   "outputs": [],
   "source": [
    "def is_even(num_1):\n",
    "    \"\"\"\n",
    "    Input: num_1, a positive int\n",
    "    Output: True if num_1 is even, otherwise False\n",
    "    \"\"\"\n",
    "    if num_1%2==0:\n",
    "        return True\n",
    "    else:\n",
    "        return False"
   ]
  },
  {
   "cell_type": "code",
   "execution_count": null,
   "metadata": {
    "collapsed": true
   },
   "outputs": [],
   "source": [
    "# a function can be called in any other location within a program\n",
    "result = is_even(num_1=3) # binding of returned value to variable result\n",
    "print(result)"
   ]
  },
  {
   "cell_type": "markdown",
   "metadata": {},
   "source": [
    "The function \"is_even\" takes an integer num_1 as argument and \"returns\" a boolean True or False\n"
   ]
  },
  {
   "cell_type": "code",
   "execution_count": null,
   "metadata": {
    "collapsed": true
   },
   "outputs": [],
   "source": [
    "# Another example of a function with string arguments\n",
    "def greeting(name):\n",
    "    \"\"\"\n",
    "    Input: name (string)\n",
    "    prints a greeting\n",
    "    \"\"\"\n",
    "    print('Hi ' + name + \". \" + \"Welcome to CoderAcademy!!\")\n"
   ]
  },
  {
   "cell_type": "code",
   "execution_count": null,
   "metadata": {
    "collapsed": true
   },
   "outputs": [],
   "source": [
    "# calling function    \n",
    "greeting(\"Dan\")"
   ]
  },
  {
   "cell_type": "markdown",
   "metadata": {},
   "source": [
    "Notice that the above function does not have a return statement. If a return statement is missing, the function returns a None value. The above function prints a greeting but returns None. If we try to assign the function result to a variable it will just be None."
   ]
  },
  {
   "cell_type": "code",
   "execution_count": null,
   "metadata": {
    "collapsed": true
   },
   "outputs": [],
   "source": [
    "my_greeting = greeting(\"James\")\n",
    "print(my_greeting)"
   ]
  },
  {
   "cell_type": "code",
   "execution_count": null,
   "metadata": {
    "collapsed": true
   },
   "outputs": [],
   "source": [
    "# function with multiple arguments\n",
    "def evalQuadratic(a, b, c, x):\n",
    "    \"\"\"\n",
    "    Input: a,b,c=numerical values for the coefficients of a quadratic equation, x=numerical value at which to evaluate the quadratic.\n",
    "    output: result of quadratic equation. \n",
    "    \"\"\"\n",
    "    result = a*x**2 + b * x + c\n",
    "    return result\n",
    "\n",
    "print(evalQuadratic(4, 5, 2, 3))"
   ]
  },
  {
   "cell_type": "markdown",
   "metadata": {},
   "source": [
    "##### Default function arguments\n",
    "Calling a function without passing the required arguments will give an error.\n",
    "\n",
    "```python\n",
    "def add_numbers(arg_1, arg_2):\n",
    "    return arg_1 + arg_2\n",
    "\n",
    "add_numbers(1)\n",
    "```\n",
    "The function add_numbers will raise an error \"add_numbers missing 1 positional argument\" because we forgot to pass in the value of the second number.\n",
    "\n",
    "However, we can assign a default value to any function argument in the following way:\n",
    "\n",
    "```python\n",
    "def add_numbers(arg_1, arg_2=10):\n",
    "    return arg_1 + arg_2\n",
    "\n",
    "add_numbers(5)\n",
    "```\n",
    "Here arg_2 is assigned a value of 10 by default. Calling add_numbers with arg_1=5 will return 15 since arg_2=10.\n",
    "The default value will be overwritten if a new value for an argument is passed. For example- \n",
    "\n",
    "```python\n",
    "add_numbers(10, 50) \n",
    "```\n",
    "will overwrite the default value of arg_2 and will return 60."
   ]
  },
  {
   "cell_type": "code",
   "execution_count": null,
   "metadata": {
    "collapsed": true
   },
   "outputs": [],
   "source": [
    "# example of default function arguments\n",
    "def printName(firstName, lastName, reverse=False):\n",
    "    if reverse:\n",
    "        print(lastName+ \", \" + firstName)\n",
    "    else:\n",
    "        print(firstName, lastName)\n",
    "\n",
    "printName(\"Nihit\", \"Vyas\")\n",
    "printName(\"Nihit\", \"Vyas\", True)"
   ]
  },
  {
   "cell_type": "markdown",
   "metadata": {},
   "source": [
    "We can return any data type including list, dictionaries and sets from a function.\n",
    "\n",
    "Note: Set is another data structure in Python.\n",
    "Set in Python is equivalent to sets in mathematics. Just like in Mathematics, a set in Python is an unordered set of unique elements.\n",
    "For more on sets checkout:\n",
    "https://docs.python.org/2/library/sets.html"
   ]
  },
  {
   "cell_type": "code",
   "execution_count": null,
   "metadata": {
    "collapsed": true
   },
   "outputs": [],
   "source": [
    "# function to return a list of first n integers\n",
    "def n_integers(n):\n",
    "    int_list = []\n",
    "    for i in range(n):\n",
    "        int_list.append(i)\n",
    "    return int_list\n",
    "\n",
    "print(n_integers(10))"
   ]
  },
  {
   "cell_type": "markdown",
   "metadata": {},
   "source": [
    "### Scope and Lifetime of variables\n",
    "Scope of a variable is the part of a program where the variable is recognized. Arguments and variables defined inside a function are not visible/accessible from outside. Hence, they have a local scope.\n",
    "\n",
    "Lifetime of a variable is the period throughout which the variable exits in the memory. The lifetime of variables inside a function is as long as the function executes.\n",
    "\n",
    "They are destroyed once we return from the function. Hence, a function does not remember the value of a variable from its previous calls."
   ]
  },
  {
   "cell_type": "code",
   "execution_count": null,
   "metadata": {
    "collapsed": true
   },
   "outputs": [],
   "source": [
    "# Inside a function, you can access a variable defined outside but you cannot modify this variable.\n",
    "# example to illustrate the scope of a variable:\n",
    "def my_func():\n",
    "    x = 10\n",
    "    print(\"Value inside function:\", x)\n",
    "\n",
    "x = 20\n",
    "my_func()\n",
    "print(\"Value outside function:\", x)"
   ]
  },
  {
   "cell_type": "markdown",
   "metadata": {},
   "source": [
    "### Types of functions\n",
    "In Python there are two types of function:\n",
    "* User defined functions: the kind we have defined above\n",
    "* Built in functions: Pre-defined functions that comes with Python\n",
    "\n",
    "Some of the built in functions you have seen so far are: len, type, max, min"
   ]
  },
  {
   "cell_type": "markdown",
   "metadata": {},
   "source": [
    "## Importing modules in Python\n",
    "\n",
    "##### Python modules:\n",
    "You can import the pre-defined functions from Python Standard Library.\n",
    "A Library is a file containing a set of functions you want to include in your application. A module is a .py file containing Python definitions and statements. A program gets access to a module through an import statement\n",
    "\n",
    "To include such modules in our code, we use the `import` keyword in Python. \n",
    "\n",
    "The following example imports the square root function from the Math library of Python."
   ]
  },
  {
   "cell_type": "code",
   "execution_count": null,
   "metadata": {
    "collapsed": true
   },
   "outputs": [],
   "source": [
    "# calculate the square root of an integer\n",
    "# import the function \"sqrt\" from the library \"math\"\n",
    "from math import sqrt\n",
    "\n",
    "print(sqrt(400))"
   ]
  },
  {
   "cell_type": "markdown",
   "metadata": {},
   "source": [
    "This is a simple illustration of how functions can make our lives easier. As we can see, we have imported a pre-defined function called \"sqrt\" from the library \"math\" and used it in our program to find the square root of an integer. \n",
    "\n",
    "Without the \"sqrt\" function, we would have had to spend time writing our own logic to find the square root an integer, which may look like the following. "
   ]
  },
  {
   "cell_type": "code",
   "execution_count": null,
   "metadata": {
    "collapsed": true
   },
   "outputs": [],
   "source": [
    "# finding square root using binary search algorithm (don't worry if you don't know what binary search is). \n",
    "num = 400\n",
    "epsilon = 0.01\n",
    "numGuesses = 0\n",
    "low = 0.0\n",
    "high = max(1.0, num)\n",
    "ans = (high + low)/2.0\n",
    "while abs(ans**2 - num) >= epsilon:\n",
    "    numGuesses += 1\n",
    "    if ans**2 < num:\n",
    "        low = ans\n",
    "    else:\n",
    "        high = ans\n",
    "    ans = (high + low)/2.0\n",
    "\n",
    "print(ans)"
   ]
  },
  {
   "cell_type": "markdown",
   "metadata": {},
   "source": [
    "Now you can appreciate the importance of functions. Python provides a rich collection of pre-defined functions and at the same time makes it easy for us to define our own functions.\n",
    "\n",
    "You can find all the pre-defined functions in Python in the official documentation-\n",
    "https://docs.python.org/3/library/index.html"
   ]
  },
  {
   "cell_type": "markdown",
   "metadata": {},
   "source": [
    "---"
   ]
  },
  {
   "cell_type": "markdown",
   "metadata": {},
   "source": [
    "## Challenges"
   ]
  },
  {
   "cell_type": "markdown",
   "metadata": {},
   "source": [
    "### Challenge 1"
   ]
  },
  {
   "cell_type": "markdown",
   "metadata": {},
   "source": [
    "Please insert your code in the cell following the instructions.\n",
    "\n",
    "Write a function that returns the list of first n even numbers where n is an integer argument passed to the function.\n",
    "Hint: a loop might be helpful\n",
    "\n",
    "Here is an example of calling the function, with an output value:\n",
    "\n",
    "```python\n",
    "print(n_even_numbers(7))\n",
    "```\n",
    "\n",
    "Would return\n",
    "\n",
    "```python\n",
    "[0, 2, 4, 6]\n",
    "```"
   ]
  },
  {
   "cell_type": "code",
   "execution_count": null,
   "metadata": {
    "collapsed": true
   },
   "outputs": [],
   "source": [
    "# enter your code here\n"
   ]
  },
  {
   "cell_type": "markdown",
   "metadata": {},
   "source": [
    "### Challenge 2"
   ]
  },
  {
   "cell_type": "markdown",
   "metadata": {},
   "source": [
    "Write a function to check if a number is prime or not. Your function must accept an integer argument and return True if the integer is a prime and False otherwise.\n",
    "\n",
    "Here is an example of calling the function, with an output value:\n",
    "\n",
    "```python\n",
    "print(is_prime(7))\n",
    "print(is_prime(30))\n",
    "```\n",
    "\n",
    "Would return\n",
    "\n",
    "```python\n",
    "True\n",
    "False\n",
    "```"
   ]
  },
  {
   "cell_type": "code",
   "execution_count": null,
   "metadata": {
    "collapsed": true
   },
   "outputs": [],
   "source": [
    "# enter your code here\n"
   ]
  },
  {
   "cell_type": "markdown",
   "metadata": {},
   "source": [
    "### Challenge 3"
   ]
  },
  {
   "cell_type": "markdown",
   "metadata": {},
   "source": [
    "A regular polygon has n number of sides. Each side has length s.\n",
    "\n",
    "The area of a regular polygon is: \n",
    "            \n",
    "            (0.25 * n * s^2)/tan(pi/n)\n",
    "            \n",
    "Write a function called poly_area that takes 2 arguments, n and s and returns the area of a polygon.\n",
    "\n",
    "The Python \"math\" library provides a rich collection of mathematical functions. Use the following link to understand how to use the tan and pi functions from the math library. \n",
    "https://docs.python.org/3.7/library/math.html\n",
    "\n",
    "Here is an example of calling the function, with an output value:\n",
    "\n",
    "```python\n",
    "print(poly_area(4, 2))\n",
    "```\n",
    "\n",
    "Would return\n",
    "\n",
    "```python\n",
    "4.000000000000001\n",
    "```"
   ]
  },
  {
   "cell_type": "code",
   "execution_count": null,
   "metadata": {
    "collapsed": true
   },
   "outputs": [],
   "source": [
    "# enter your code here\n"
   ]
  },
  {
   "cell_type": "markdown",
   "metadata": {},
   "source": [
    "### Challenge 4\n",
    "Write a function that takes 2 integers and a string \"operator\" which can be equal to \"sum\", \"subtract\" and \"product\". The function must return the result of the mathematical operation specified by \"operator\" on the two integers.\n",
    "\n",
    "Here is an example of calling the function, with an output value:\n",
    "\n",
    "```python\n",
    "print(perform_operation(6, 2, \"subtract\"))\n",
    "print(perform_operation(6, 2, \"product\"))\n",
    "```\n",
    "\n",
    "Would return\n",
    "\n",
    "```python\n",
    "4\n",
    "12\n",
    "```"
   ]
  },
  {
   "cell_type": "code",
   "execution_count": null,
   "metadata": {
    "collapsed": true
   },
   "outputs": [],
   "source": [
    "# enter your code here\n"
   ]
  },
  {
   "cell_type": "markdown",
   "metadata": {},
   "source": [
    "## Downloading the notebook\n",
    "\n",
    "If you would like to retain your work, please follow the following directions:\n",
    "\n",
    "* On the top of this screen, in the header menu, click \"File\", then \"Download as\" and then \"Notebook\".\n",
    "\n",
    "* You will need to download [Python 3.7 with Anaconda](https://www.anaconda.com/distribution/) to use this in the future."
   ]
  }
 ],
 "metadata": {
  "kernelspec": {
   "display_name": "Python [default]",
   "language": "python",
   "name": "python3"
  },
  "language_info": {
   "codemirror_mode": {
    "name": "ipython",
    "version": 3
   },
   "file_extension": ".py",
   "mimetype": "text/x-python",
   "name": "python",
   "nbconvert_exporter": "python",
   "pygments_lexer": "ipython3",
   "version": "3.5.4"
  }
 },
 "nbformat": 4,
 "nbformat_minor": 2
}
