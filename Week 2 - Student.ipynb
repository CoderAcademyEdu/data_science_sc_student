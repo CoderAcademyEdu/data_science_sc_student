{
 "cells": [
  {
   "cell_type": "markdown",
   "metadata": {},
   "source": [
    "# Intro to Python - Lesson 2\n",
    "\n",
    "This lesson will cover the following topics:\n",
    "\n",
    "* Lists\n",
    "* Dictionaries\n",
    "* Loops\n",
    "\n",
    "It is assumed you have basic knowledge of the following:\n",
    "\n",
    "* Variables\n",
    "* Data Types\n",
    "* Arthimetic in Python\n",
    "* Conditional statements"
   ]
  },
  {
   "cell_type": "markdown",
   "metadata": {},
   "source": [
    "## Lists\n",
    "\n",
    "Let's say you want to store the days of the week as variables. Based upon our previous lesson, you could do the following...\n",
    "\n",
    "---\n",
    "\n",
    "```python\n",
    "first_day = 'Sunday'\n",
    "second_day = 'Monday'\n",
    "third_day = 'Wednesday\"\n",
    "# and so on\n",
    "```\n",
    "\n",
    "---\n",
    "\n",
    "This is annoying though, as we will end up with seven types of variables, each for one day of the week. Would it not be great if there existed a data type that could hold all of the days of the week in one variable?\n",
    "\n",
    "`Lists` are data types in Python that can hold multiple items. Lists are similar to a basket that you can add and remove items from. Lists should be used to store information that is related in some way. Lists also make it easy to perform actions on larger data."
   ]
  },
  {
   "cell_type": "markdown",
   "metadata": {},
   "source": [
    "### Creating a list\n",
    "\n",
    "We can create a list of three values using the following syntax:\n",
    "\n",
    "---\n",
    "\n",
    "```python\n",
    "list_name = [value_1, value_2, value_3]\n",
    "```\n",
    "\n",
    "---\n",
    "\n",
    "Note:\n",
    "\n",
    "* Values in a list are seperated by a `,`\n",
    "* The entire list is surrounded by square brackets `[...]`\n",
    "\n",
    "Lists theoretically  have no limit as to how many elements they can contain.\n",
    "\n",
    "Examples of a list with one element can be found below:"
   ]
  },
  {
   "cell_type": "code",
   "execution_count": null,
   "metadata": {
    "collapsed": true
   },
   "outputs": [],
   "source": [
    "friends = ['Frank Sinatra']\n",
    "print(friends)\n",
    "\n",
    "current_bosses_at_work = ['Sam Turner']\n",
    "print(current_bosses_at_work)"
   ]
  },
  {
   "cell_type": "markdown",
   "metadata": {},
   "source": [
    "We know this is a list by printing the data type."
   ]
  },
  {
   "cell_type": "code",
   "execution_count": null,
   "metadata": {
    "collapsed": true
   },
   "outputs": [],
   "source": [
    "print(type(friends))"
   ]
  },
  {
   "cell_type": "markdown",
   "metadata": {},
   "source": [
    "Example of a list with multiple elements can be found below. We have entered the list in multiple lines to make it easier to read."
   ]
  },
  {
   "cell_type": "code",
   "execution_count": null,
   "metadata": {
    "collapsed": true
   },
   "outputs": [],
   "source": [
    "days_of_the_week = [\n",
    "    'Monday', \n",
    "    'Tuesday', \n",
    "    'Wednesday', \n",
    "    'Thursday', \n",
    "    'Friday', \n",
    "    'Saturday', \n",
    "    'Sunday'\n",
    "]\n",
    "print(days_of_the_week)\n",
    "\n",
    "random_list = ['Hello world!', 4, 2000, 'Another String']\n",
    "print(random_list)"
   ]
  },
  {
   "cell_type": "markdown",
   "metadata": {},
   "source": [
    "We can gain access to the values from a list by specifying an **index**. \n",
    "\n",
    "An index is just a number that represents the position within a list. The index always starts at `0` so we can access the first element in the collection with the following syntax:"
   ]
  },
  {
   "cell_type": "code",
   "execution_count": null,
   "metadata": {
    "collapsed": true
   },
   "outputs": [],
   "source": [
    "my_list = ['Test', 6, 27, 'Another Test']\n",
    "print(my_list[0])"
   ]
  },
  {
   "cell_type": "markdown",
   "metadata": {},
   "source": [
    "#### Tangent...why is the first index a 0?\n",
    "\n",
    "Much like variables, lists are stored in memory but their values are not always stored next to each other because some elements of the list may require more memory than others to be stored. \n",
    "\n",
    "To give some relevance to the index starting at `0`, think of it as an offset in memory. So in the list below...\n",
    "\n",
    "---\n",
    "\n",
    "```python\n",
    "my_list = ['Test', 6, 27, 'Another Test']\n",
    "```\n",
    "\n",
    "---\n",
    "\n",
    "We can say the following:\n",
    "\n",
    "* `'Test'` refers to the initial point in the list in memory (index 0)\n",
    "* `6` is at one offset from the initial point (index 1)\n",
    "* `27` is at two offsets from the initial point (index 2)\n",
    "\n",
    "and so on."
   ]
  },
  {
   "cell_type": "markdown",
   "metadata": {},
   "source": [
    "### List methods"
   ]
  },
  {
   "cell_type": "markdown",
   "metadata": {},
   "source": [
    "Imagine that we want to change the values within a list after we have created it. Python gives us some built-in **methods** that allow us to dynamically change the structure and values within the list. A full list of list methods (pun intended) can be found at [this link](https://docs.python.org/2/tutorial/datastructures.html).\n",
    "\n",
    "Some of the most frequently used methods include:\n",
    "\n",
    "- `my_list.append(new_value)`: which inserts `new_value` to the end of `my_list`\n",
    "- `my_list.insert(index, new_value)`: which inserts `new_value` before the current value at `index` of `my_list`\n",
    "- `my_list.pop()`: which deletes the last element of a list and returns its value\n",
    "\n",
    "---\n",
    "\n",
    "Run the cells below to see examples of these functions."
   ]
  },
  {
   "cell_type": "code",
   "execution_count": null,
   "metadata": {
    "collapsed": true
   },
   "outputs": [],
   "source": [
    "# The append() methods adds an element \n",
    "# to the end of the list\n",
    "\n",
    "my_list = [1, 2, 3, 4, 5]\n",
    "print(my_list)\n",
    "my_list.append(6)\n",
    "print(my_list)"
   ]
  },
  {
   "cell_type": "code",
   "execution_count": null,
   "metadata": {
    "collapsed": true
   },
   "outputs": [],
   "source": [
    "#The insert() methods adds an element to a \n",
    "# specific position within the list. \n",
    "# For example the '0' denotes the start of the list.\n",
    "\n",
    "my_list = [1, 2, 3, 4, 5]\n",
    "print(my_list)\n",
    "my_list.insert(0, 6)\n",
    "print(my_list)"
   ]
  },
  {
   "cell_type": "code",
   "execution_count": null,
   "metadata": {
    "collapsed": true
   },
   "outputs": [],
   "source": [
    "# The pop() method removes the element at \n",
    "# the position of the given index. If no \n",
    "# index is given, pop will remove the last element in the list.\n",
    "\n",
    "my_list = [1, 2, 3, 4, 5]\n",
    "print(my_list)\n",
    "my_list.pop()\n",
    "print(my_list)"
   ]
  },
  {
   "cell_type": "markdown",
   "metadata": {},
   "source": [
    "Let's test the length of the ```list``` before and after we use the ```pop``` method. We can use the ```len()``` method to accomplish this."
   ]
  },
  {
   "cell_type": "code",
   "execution_count": null,
   "metadata": {
    "collapsed": true
   },
   "outputs": [],
   "source": [
    "my_list = [1, 2, 3, 4, 5]\n",
    "print(len(my_list))\n",
    "my_list.pop()\n",
    "print(len(my_list))"
   ]
  },
  {
   "cell_type": "markdown",
   "metadata": {},
   "source": [
    "## Dictionaries\n",
    "\n",
    "**Dictionaries** are like lists where we give a _name_, called a _key_ to each index.\n",
    "\n",
    "Run the cell below to see an example of creating a dictionary."
   ]
  },
  {
   "cell_type": "code",
   "execution_count": null,
   "metadata": {
    "collapsed": true
   },
   "outputs": [],
   "source": [
    "my_dictionary = {\n",
    "    'first_element': 17, \n",
    "    'second_element': 'A String example', \n",
    "    'third_element': 5\n",
    "}\n",
    "\n",
    "print(my_dictionary)\n",
    "print(type(my_dictionary))"
   ]
  },
  {
   "cell_type": "markdown",
   "metadata": {},
   "source": [
    "Let's analyze the syntax of what we just did.\n",
    "\n",
    "* Note that a dictionary uses curly braces `{...}`\n",
    "* Within the curly braces, each element had two values, called a **key** and a **value**. The syntax was\n",
    "\n",
    "---\n",
    "```python\n",
    "my_dict = {\n",
    "    key: value\n",
    "}\n",
    "```\n",
    "\n",
    "---\n",
    "\n",
    "Think of a dictionary as a **lookup table**.\n",
    "\n",
    "For instance, let's say we have the following dictionary of people with their respective phone numbers, and we want to look-up Dan's phone #. We can do this using the following syntax:"
   ]
  },
  {
   "cell_type": "code",
   "execution_count": null,
   "metadata": {
    "collapsed": true
   },
   "outputs": [],
   "source": [
    "my_dictionary = {\n",
    "    'Dan': '04-111-111-111', \n",
    "    'Nihit': '04-222-222-222'\n",
    "}\n",
    "print(my_dictionary['Dan'])"
   ]
  },
  {
   "cell_type": "markdown",
   "metadata": {},
   "source": [
    "We can add a value to a dictionary by indexing a new key and adding its respective value. For instance...\n",
    "\n",
    "---\n",
    "```python\n",
    "my_dict[new_key] = new_value\n",
    "```\n",
    "\n",
    "---\n",
    "\n",
    "Let's add a phone # to our dictionary."
   ]
  },
  {
   "cell_type": "code",
   "execution_count": null,
   "metadata": {
    "collapsed": true
   },
   "outputs": [],
   "source": [
    "#Updating an existing element in a dictionary\n",
    "my_dictionary['James'] = '04-333-333-333'\n",
    "print(my_dictionary)"
   ]
  },
  {
   "cell_type": "markdown",
   "metadata": {},
   "source": [
    "## Loops\n",
    "\n",
    "Imagine you want to print each phone day of the week in the following list...\n",
    "\n",
    "---\n",
    "```python\n",
    "days_of_the_week = [\n",
    "    'Monday',\n",
    "    'Tuesday',\n",
    "    'Wednesday',\n",
    "    'Thursday',\n",
    "    'Friday',\n",
    "    'Saturday',\n",
    "    'Sunday'\n",
    "]\n",
    "\n",
    "# Now will print each day\n",
    "print(days_of_the_week[0])\n",
    "print(days_of_the_week[1])\n",
    "print(days_of_the_week[2])\n",
    "# This is annoying\n",
    "print(days_of_the_week[3])\n",
    "# Stopping now\n",
    "```\n",
    "\n",
    "---\n",
    "\n",
    "Wouldn't it be nice if there was some way to _iteratively_ go through the list and print each element? All we are doing in each line is updating the index by 1.\n",
    "\n",
    "**Loops** can be used in Python to simplify the code we have to write for repetitive tasks. There are two main types of loops:\n",
    "\n",
    "\n",
    "- while loops\n",
    "- for loops"
   ]
  },
  {
   "cell_type": "markdown",
   "metadata": {},
   "source": [
    "### While Loop\n",
    "\n",
    "The **while** loops runs a portion of indented code until a specified condition becomes `False`.\n",
    "\n",
    "Below you can find the syntax of a while loop:\n",
    "\n",
    "---\n",
    "\n",
    "``` python\n",
    "while condition_is_True:\n",
    "    # Run this indented code\n",
    "```\n",
    "\n",
    "---\n",
    "\n",
    "Here is an example of a while loop to print the days of the week:"
   ]
  },
  {
   "cell_type": "code",
   "execution_count": null,
   "metadata": {
    "collapsed": true
   },
   "outputs": [],
   "source": [
    "days_of_the_week = [\n",
    "    'Monday',\n",
    "    'Tuesday',\n",
    "    'Wednesday',\n",
    "    'Thursday',\n",
    "    'Friday',\n",
    "    'Saturday',\n",
    "    'Sunday'\n",
    "]\n",
    "\n",
    "# Set a variable to 0\n",
    "curr_index = 0\n",
    "\n",
    "# Loop until the current index is equal to the length of the list\n",
    "while curr_index < len(days_of_the_week):\n",
    "    print(days_of_the_week[curr_index])\n",
    "    # Update the index\n",
    "    curr_index += 1 # Same as curr_index = curr_index + 1"
   ]
  },
  {
   "cell_type": "markdown",
   "metadata": {},
   "source": [
    "**BE CAREFUL** with while loops! If the current condition is _never False_, what occurs?\n",
    "\n",
    "Use the square button up top to stop the **infinite loop**."
   ]
  },
  {
   "cell_type": "code",
   "execution_count": null,
   "metadata": {
    "collapsed": true,
    "scrolled": true
   },
   "outputs": [],
   "source": [
    "# Run if you dare...\n",
    "while True:\n",
    "    print(\"1\")"
   ]
  },
  {
   "cell_type": "markdown",
   "metadata": {},
   "source": [
    "Here is a simpler example."
   ]
  },
  {
   "cell_type": "code",
   "execution_count": null,
   "metadata": {
    "collapsed": true
   },
   "outputs": [],
   "source": [
    "name = 'Jack'\n",
    "\n",
    "while name == 'Jack':\n",
    "    print('Hello Jack')\n",
    "    name = 'Test'"
   ]
  },
  {
   "cell_type": "markdown",
   "metadata": {},
   "source": [
    "Once name becomes something other than Jack the loop ends."
   ]
  },
  {
   "cell_type": "markdown",
   "metadata": {},
   "source": [
    "### For loop\n",
    "\n",
    "**For loops** are another way to iterate through something. Unlike a while loop, for loops do not iterate based upon a condition, but iterate through an object, like a dictionary or list.\n",
    "\n",
    "The syntax is:\n",
    "\n",
    "\n",
    "---\n",
    "\n",
    "``` python\n",
    "for item in iterable:\n",
    "    #Code to loop\n",
    "```\n",
    "\n",
    "---\n",
    "\n",
    "For instance this code will also iterate through the days of the week:"
   ]
  },
  {
   "cell_type": "code",
   "execution_count": null,
   "metadata": {
    "collapsed": true
   },
   "outputs": [],
   "source": [
    "days_of_the_week = [\n",
    "    'Monday',\n",
    "    'Tuesday',\n",
    "    'Wednesday',\n",
    "    'Thursday',\n",
    "    'Friday',\n",
    "    'Saturday',\n",
    "    'Sunday'\n",
    "]\n",
    "\n",
    "for d in days_of_the_week:\n",
    "    print(d)"
   ]
  },
  {
   "cell_type": "markdown",
   "metadata": {},
   "source": [
    "This code iterates through each character of the string, `'Test String'`."
   ]
  },
  {
   "cell_type": "code",
   "execution_count": null,
   "metadata": {
    "collapsed": true
   },
   "outputs": [],
   "source": [
    "for each_character in 'Test String':\n",
    "    print(each_character)"
   ]
  },
  {
   "cell_type": "markdown",
   "metadata": {},
   "source": [
    "To break this down...\n",
    "\n",
    "* In the above examples, we had a variable that itereated through each value _in_ some object.\n",
    "* In the first example, `d` iterated through each value of `days_of_the_week`\n",
    "* In the second example, `each_character` iterated through the characters of `'Test String'`"
   ]
  },
  {
   "cell_type": "markdown",
   "metadata": {},
   "source": [
    "## Challenges"
   ]
  },
  {
   "cell_type": "markdown",
   "metadata": {},
   "source": [
    "### Challenge 1\n",
    "\n",
    "Please insert your code in the cell following the instructions.\n",
    "\n",
    "1) Store the values from ```1``` to ```10``` in a list.\n",
    "\n",
    "2) We want to add ```0``` to the beginning of the list. Which method would we use? Implement this method to the code you have written in the cell above.\n",
    "\n",
    "3) Using the ```pop``` method, remove all of the odd numbers within the list. Please note that when we remove an element within the list, the index of all values above the specified index will be shifted down by 1 to accomodate for the removed element."
   ]
  },
  {
   "cell_type": "code",
   "execution_count": null,
   "metadata": {
    "collapsed": true
   },
   "outputs": [],
   "source": [
    "# Insert code here\n"
   ]
  },
  {
   "cell_type": "markdown",
   "metadata": {},
   "source": [
    "### Challenge 2\n",
    "\n",
    "Please insert your answer in the cell below.\n",
    "\n",
    "1) Create a dictionary that contains the Australian States and Territories as ```keys``` and their capital cities as ```values```.\n",
    "\n",
    "2) Imagine that Western Australia has undergone civil unrest and they have decided to split the State into two seperate entities. Append a new State called 'New Western Australia' that has a capital city of 'New Perth'.\n",
    "\n",
    "3) Australia is doing a survey and would like to a dataset of the states and their capital cities but not the territories, update the capital cities of the territories to 'N/A'."
   ]
  },
  {
   "cell_type": "code",
   "execution_count": null,
   "metadata": {
    "collapsed": true
   },
   "outputs": [],
   "source": [
    "# Insert answer below\n"
   ]
  },
  {
   "cell_type": "markdown",
   "metadata": {},
   "source": [
    "### Challenge 3\n",
    "\n",
    "1) Create a while loop that prints out every number from `0` through to `20`. Insert your code in the cell below.\n",
    "\n",
    "2) Create a for loop that also prints out every number from `0` through to `20`. Use the [`range()` function](https://www.w3schools.com/python/ref_func_range.asp)."
   ]
  },
  {
   "cell_type": "code",
   "execution_count": null,
   "metadata": {
    "collapsed": true
   },
   "outputs": [],
   "source": [
    "# Insert code here\n"
   ]
  },
  {
   "cell_type": "markdown",
   "metadata": {},
   "source": [
    "### Challenge 4\n",
    "\n",
    "Please place your answer in the cell below:\n",
    "\n",
    "1) Create a list called `my_list` that contains values 1 up to and including 10, and loop over the elements to print them to the console.\n",
    "\n",
    "2) Use your knowledge of arithmetic operators in Python and print whether they are odd or even. You will need a conditional statement. Refer to the table below...\n",
    "\n",
    "| Number | Should print out |\n",
    "|--------|------------------|\n",
    "| 1 | '1 is an odd number' |\n",
    "| 2 | '2 is an even number' |\n",
    "\n",
    "3) Create a `list_sum` variable and at each stage of the loop, add the current value of `my_list` to the existing `list_sum` value. The values of `list_sum` for the first three iterations and final iteration of the loop are listed below...\n",
    "\n",
    "| Loop iteration | Value of `list_sum` |\n",
    "|--------|------------------|\n",
    "| 1 | 1 |\n",
    "| 2 | 3 |\n",
    "| 3 | 6 |\n",
    "| 10 | 55 |\n",
    "\n",
    "\n",
    "4) Create a `list_product` variable and at each stage of the loop, multiply the value with the existing `list_product` value. The values of `list_product` for the first three iterations and final iteration of the loop are listed below...\n",
    "\n",
    "| Loop iteration | Value of `list_sum` |\n",
    "|--------|------------------|\n",
    "| 1 | 1 |\n",
    "| 2 | 2 |\n",
    "| 3 | 6 |\n",
    "| 10 | 3628800 |"
   ]
  },
  {
   "cell_type": "code",
   "execution_count": null,
   "metadata": {
    "collapsed": true
   },
   "outputs": [],
   "source": [
    "# Here is some helpful code to print '1 is an odd number'\n",
    "my_var = 1\n",
    "print(str(my_var) + ' is an odd number')\n",
    "\n",
    "# Insert code here\n"
   ]
  },
  {
   "cell_type": "markdown",
   "metadata": {},
   "source": [
    "### Challenge 5\n",
    "\n",
    "1) Create the following ```list``` of student names:\n",
    "\n",
    "- Max\n",
    "- Sam\n",
    "- Emily\n",
    "- Aria\n",
    "- Jeremy\n",
    "- Ronald\n",
    "- Franky\n",
    "- Elouise\n",
    "- Cassandra\n",
    "- Alexander\n",
    "\n",
    "2) Loop over the elements and check whether each name is more than 6 characters long. If they are longer than 6 characters long, remove them from the list.\n",
    "\n",
    "The following code prints the length of a string.\n",
    "\n",
    "```python\n",
    "my_str = 'hello'\n",
    "print(len(my_str))\n",
    "```\n",
    "\n",
    "3) Create a dictionary to count the amount of times specific characters (case independent) appear within the list. For example in the following list:\n",
    "\n",
    "---\n",
    "\n",
    "```python\n",
    "names = ['Dan', 'Nihit']\n",
    "```\n",
    "\n",
    "---\n",
    "\n",
    "The resulting dictionary would be...\n",
    "\n",
    "---\n",
    "\n",
    "```python\n",
    "{\n",
    "    'd': 1,\n",
    "    'a': 1\n",
    "    'n': 2,\n",
    "    'i': 2,\n",
    "    'h': 1,\n",
    "    't': 1\n",
    "}\n",
    "```\n",
    "\n",
    "---\n",
    "\n",
    "There are a couple steps that might do this:\n",
    "\n",
    "* Initialise a blank new dictionary, for example `my_dict = {}`\n",
    "* Iterate through the names list using a for loop\n",
    "* Within this for loop, iterate through the characters in each string using another for loop\n",
    "* Have conditional statements that adds the character to the resulting dictionary, or increments an existing character within the dictionary"
   ]
  },
  {
   "cell_type": "code",
   "execution_count": null,
   "metadata": {
    "collapsed": true
   },
   "outputs": [],
   "source": [
    "# Insert code here\n"
   ]
  },
  {
   "cell_type": "markdown",
   "metadata": {},
   "source": [
    "## Downloading the notebook\n",
    "\n",
    "If you would like to retain your work, please follow the following directions:\n",
    "\n",
    "* On the top of this screen, in the header menu, click \"File\", then \"Download as\" and then \"Notebook\".\n",
    "\n",
    "* You will need to download [Python 3.7 with Anaconda](https://www.anaconda.com/distribution/) to use this in the future."
   ]
  }
 ],
 "metadata": {
  "kernelspec": {
   "display_name": "Python [default]",
   "language": "python",
   "name": "python3"
  },
  "language_info": {
   "codemirror_mode": {
    "name": "ipython",
    "version": 3
   },
   "file_extension": ".py",
   "mimetype": "text/x-python",
   "name": "python",
   "nbconvert_exporter": "python",
   "pygments_lexer": "ipython3",
   "version": "3.5.4"
  }
 },
 "nbformat": 4,
 "nbformat_minor": 2
}
